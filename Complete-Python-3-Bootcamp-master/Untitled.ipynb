{
 "cells": [
  {
   "cell_type": "code",
   "execution_count": 1,
   "metadata": {},
   "outputs": [],
   "source": [
    "import random \n"
   ]
  },
  {
   "cell_type": "code",
   "execution_count": 2,
   "metadata": {},
   "outputs": [],
   "source": [
    "rn_val = random.randint(1,3)"
   ]
  },
  {
   "cell_type": "code",
   "execution_count": 3,
   "metadata": {},
   "outputs": [
    {
     "name": "stdout",
     "output_type": "stream",
     "text": [
      "enter val\n",
      "2\n",
      "enter val\n",
      "3\n",
      "enter val\n",
      "1\n",
      "you found the number 1\n"
     ]
    }
   ],
   "source": [
    "while(1==1):\n",
    "    print('enter val')\n",
    "    inp = input()\n",
    "    if int(inp) > 100 or int(inp) < 0:\n",
    "        print('out of range')\n",
    "        continue; \n",
    "    elif int(inp) == rn_val:\n",
    "        print('you found the number {0}'.format(rn_val))\n",
    "        break;\n",
    "        \n",
    "        \n",
    "        "
   ]
  },
  {
   "cell_type": "code",
   "execution_count": null,
   "metadata": {},
   "outputs": [],
   "source": []
  }
 ],
 "metadata": {
  "kernelspec": {
   "display_name": "Python 3",
   "language": "python",
   "name": "python3"
  },
  "language_info": {
   "codemirror_mode": {
    "name": "ipython",
    "version": 3
   },
   "file_extension": ".py",
   "mimetype": "text/x-python",
   "name": "python",
   "nbconvert_exporter": "python",
   "pygments_lexer": "ipython3",
   "version": "3.6.4"
  }
 },
 "nbformat": 4,
 "nbformat_minor": 2
}
